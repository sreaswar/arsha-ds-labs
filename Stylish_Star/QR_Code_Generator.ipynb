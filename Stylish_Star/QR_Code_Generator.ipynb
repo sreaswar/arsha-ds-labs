{
 "cells": [
  {
   "cell_type": "code",
   "execution_count": 10,
   "id": "d8e2d5bb",
   "metadata": {},
   "outputs": [
    {
     "name": "stdout",
     "output_type": "stream",
     "text": [
      "Note: you may need to restart the kernel to use updated packages.\n"
     ]
    },
    {
     "name": "stderr",
     "output_type": "stream",
     "text": [
      "ERROR: Could not find a version that satisfies the requirement tkinter (from versions: none)\n",
      "ERROR: No matching distribution found for tkinter\n"
     ]
    }
   ],
   "source": [
    "pip install tkinter"
   ]
  },
  {
   "cell_type": "code",
   "execution_count": 11,
   "id": "8bdee69c",
   "metadata": {},
   "outputs": [
    {
     "name": "stdout",
     "output_type": "stream",
     "text": [
      "Requirement already satisfied: qrcode in c:\\users\\arsha\\anaconda3\\lib\\site-packages (7.4.2)\n",
      "Requirement already satisfied: typing-extensions in c:\\users\\arsha\\anaconda3\\lib\\site-packages (from qrcode) (4.3.0)\n",
      "Requirement already satisfied: colorama in c:\\users\\arsha\\anaconda3\\lib\\site-packages (from qrcode) (0.4.5)\n",
      "Requirement already satisfied: pypng in c:\\users\\arsha\\anaconda3\\lib\\site-packages (from qrcode) (0.20220715.0)\n",
      "Note: you may need to restart the kernel to use updated packages.\n"
     ]
    }
   ],
   "source": [
    "pip install qrcode"
   ]
  },
  {
   "cell_type": "code",
   "execution_count": 12,
   "id": "7905a5fa",
   "metadata": {},
   "outputs": [],
   "source": [
    "import qrcode\n",
    "from tkinter import *\n",
    "from tkinter import messagebox"
   ]
  },
  {
   "cell_type": "code",
   "execution_count": 13,
   "id": "1b44ec12",
   "metadata": {},
   "outputs": [],
   "source": [
    "wn = Tk()\n",
    "wn.title('DataFlair QR Code Generator')\n",
    "wn.geometry('700x700')\n",
    "wn.config(bg='SteelBlue3')"
   ]
  },
  {
   "cell_type": "code",
   "execution_count": 42,
   "id": "516c558f",
   "metadata": {},
   "outputs": [],
   "source": [
    "import qrcode\n",
    "# Link for website\n",
    "input_data = \"http://localhost:8888/notebooks/QR_Code_Generator.ipynb\"\n",
    "#Creating an instance of qrcode\n",
    "qr = qrcode.QRCode(\n",
    "        version=1,\n",
    "        box_size=10,\n",
    "        border=5)\n",
    "qr.add_data(input_data)\n",
    "qr.make(fit=True)\n",
    "img = qr.make_image(fill='black', back_color='white')\n",
    "img.save('qrcode001.png')"
   ]
  },
  {
   "cell_type": "code",
   "execution_count": 43,
   "id": "7b031876",
   "metadata": {},
   "outputs": [
    {
     "data": {
      "text/plain": [
       "<qrcode.main.QRCode at 0x26cfd6201c0>"
      ]
     },
     "execution_count": 43,
     "metadata": {},
     "output_type": "execute_result"
    }
   ],
   "source": [
    "qr"
   ]
  },
  {
   "cell_type": "code",
   "execution_count": 44,
   "id": "e438e15a",
   "metadata": {},
   "outputs": [
    {
     "data": {
      "image/png": "[encoded data removed]",
      "text/plain": [
       "<qrcode.image.pil.PilImage at 0x26cfd6d5bb0>"
      ]
     },
     "execution_count": 44,
     "metadata": {},
     "output_type": "execute_result"
    }
   ],
   "source": [
    "img"
   ]
  },
  {
   "cell_type": "code",
   "execution_count": null,
   "id": "ebe86043",
   "metadata": {},
   "outputs": [],
   "source": []
  }
 ],
 "metadata": {
  "kernelspec": {
   "display_name": "Python 3 (ipykernel)",
   "language": "python",
   "name": "python3"
  },
  "language_info": {
   "codemirror_mode": {
    "name": "ipython",
    "version": 3
   },
   "file_extension": ".py",
   "mimetype": "text/x-python",
   "name": "python",
   "nbconvert_exporter": "python",
   "pygments_lexer": "ipython3",
   "version": "3.9.13"
  }
 },
 "nbformat": 4,
 "nbformat_minor": 5
}
