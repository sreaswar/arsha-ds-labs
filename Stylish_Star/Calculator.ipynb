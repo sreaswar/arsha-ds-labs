{
 "cells": [
  {
   "cell_type": "code",
   "execution_count": null,
   "id": "8231d477",
   "metadata": {},
   "outputs": [
    {
     "name": "stdout",
     "output_type": "stream",
     "text": [
      "A. Addition\n",
      "B. Subtraction\n",
      "C. Multiplication\n",
      "D. Division\n",
      "E. Exit\n",
      "input your choice: 2\n",
      "A. Addition\n",
      "B. Subtraction\n",
      "C. Multiplication\n",
      "D. Division\n",
      "E. Exit\n",
      "input your choice: a\n",
      "Addition\n",
      "input first number: 5\n",
      "input second number: 10\n",
      "5 + 10 = 15\n",
      "\n",
      "A. Addition\n",
      "B. Subtraction\n",
      "C. Multiplication\n",
      "D. Division\n",
      "E. Exit\n"
     ]
    }
   ],
   "source": [
    "def add(a, b):\n",
    "    answer = a + b\n",
    "    print(str(a) + \" + \" + str( b) + \" = \" + str(answer) + \"\\n\")\n",
    "def sub(a, b):\n",
    "    answer = a - b\n",
    "    print(str(a) + \" - \" + str(b ) + \" = \" + str(answer) + \"\\n\")\n",
    "def mul(a, b):\n",
    "    answer = a*b\n",
    "    print(str(a) + \" * \" + str(b) + \" = \" + str(answer) + \"\\n\")\n",
    "def div(a, b):\n",
    "    answer = a / b\n",
    "    print(str(a) + \" / \" + str(b) + \" = \" + str(answer) + \"\\n\")\n",
    "\n",
    "while True:\n",
    "    print(\"A. Addition\")\n",
    "    print(\"B. Subtraction\")\n",
    "    print(\"C. Multiplication\")\n",
    "    print(\"D. Division\")\n",
    "    print(\"E. Exit\")\n",
    "    choice = input(\"input your choice: \")\n",
    "\n",
    "    if choice == \"a\" or choice == \"A\":\n",
    "        print(\"Addition\")\n",
    "        a = int(input(\"input first number: \"))\n",
    "        b = int(input(\"input second number: \"))\n",
    "        add(a, b)\n",
    "    elif choice == \"b\" or choice == \"B\":\n",
    "        print(\"Subtraction\")\n",
    "        a = int(input(\"input first number:\"))\n",
    "        b = int(input(\"input second number: \"))\n",
    "        sub(a, b)\n",
    "    elif choice == \"c\" or choice == \"C\":\n",
    "        print(\"Multiplication\")\n",
    "        a = int(input(\"input first number:\"))\n",
    "        b = int(input(\"input second number: \"))\n",
    "        mul(a, b)\n",
    "    elif choice == \"d\" or choice == \"D\":\n",
    "        print(\"Division\" )\n",
    "        a = int(input(\"input first number:\"))\n",
    "        b = int(input(\"input second number: \"))\n",
    "        div(a, b)\n",
    "    elif choice == \"e\" or choice == \"E\":\n",
    "        print(\"program ended\")\n",
    "        quit()"
   ]
  }
 ],
 "metadata": {
  "kernelspec": {
   "display_name": "Python 3 (ipykernel)",
   "language": "python",
   "name": "python3"
  },
  "language_info": {
   "codemirror_mode": {
    "name": "ipython",
    "version": 3
   },
   "file_extension": ".py",
   "mimetype": "text/x-python",
   "name": "python",
   "nbconvert_exporter": "python",
   "pygments_lexer": "ipython3",
   "version": "3.9.13"
  }
 },
 "nbformat": 4,
 "nbformat_minor": 5
}
