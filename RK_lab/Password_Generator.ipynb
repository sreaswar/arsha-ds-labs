{
 "cells": [
  {
   "cell_type": "code",
   "execution_count": 4,
   "id": "1a5a82c0",
   "metadata": {},
   "outputs": [
    {
     "name": "stdout",
     "output_type": "stream",
     "text": [
      "Welcome to our Password Generator\n",
      "=================================\n",
      "How many passwords: 4\n",
      "Enter the length of Password: 15\n",
      "\n",
      "Here is your Password\n",
      "5Hxc5tl4FeLSoLR\n",
      "Oytke7hmhichNK1\n",
      "Acplq9pr8wnVVT9\n",
      "KXD3z@SWEmbo6lK\n"
     ]
    }
   ],
   "source": [
    "import random\n",
    "print('Welcome to our Password Generator')\n",
    "print('=================================')\n",
    " \n",
    "chars ='abcdefghijklmnopqrstuvwxyzABCDEFGHIJKLMNOPQRSTUVWXYZ@0123456789'\n",
    "\n",
    "number =input('How many passwords: ')\n",
    "number =int(number)\n",
    "\n",
    "length =input('Enter the length of Password: ')\n",
    "length =int(length)\n",
    "\n",
    "print('\\nHere is your Password')\n",
    "for pwd in range(number):\n",
    "    Passwords =''\n",
    "    for c in range(length):\n",
    "        Passwords += random.choice(chars)\n",
    "    print(Passwords)"
   ]
  },
  {
   "cell_type": "code",
   "execution_count": null,
   "id": "844043a6",
   "metadata": {},
   "outputs": [],
   "source": []
  }
 ],
 "metadata": {
  "kernelspec": {
   "display_name": "Python 3 (ipykernel)",
   "language": "python",
   "name": "python3"
  },
  "language_info": {
   "codemirror_mode": {
    "name": "ipython",
    "version": 3
   },
   "file_extension": ".py",
   "mimetype": "text/x-python",
   "name": "python",
   "nbconvert_exporter": "python",
   "pygments_lexer": "ipython3",
   "version": "3.9.7"
  }
 },
 "nbformat": 4,
 "nbformat_minor": 5
}
