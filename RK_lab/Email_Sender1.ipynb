{
 "cells": [
  {
   "cell_type": "code",
   "execution_count": 1,
   "id": "52a5f68f",
   "metadata": {},
   "outputs": [],
   "source": [
    "import os\n",
    "from email.message import EmailMessage\n",
    "import ssl\n",
    "import smtplib"
   ]
  },
  {
   "cell_type": "markdown",
   "id": "fc0e2024",
   "metadata": {},
   "source": [
    "1.EmailMessage - package to read, write, and send simple email messages.\n",
    "\n",
    "2.SSL stands for Secure Sockets Layer and, in short, it's the standard technology for keeping an internet connection secure and safeguarding any sensitive data that is being sent between two systems, preventing criminals from reading and modifying any information transferred, including potential personal details.\n",
    "\n",
    "3.smtp - python module used to send mail to any internet machine with an SMTP or ESMTP listener daemon.\n",
    "\n",
    "4.Create a app password by entering into mygoogle account security -enabling 2 step verification.\n",
    "\n",
    "5.To secure the 16 digit apppassword,create a environment variable in your system(control pannel-system and security- system - advance system setting)"
   ]
  },
  {
   "cell_type": "code",
   "execution_count": 2,
   "id": "b4a968de",
   "metadata": {},
   "outputs": [],
   "source": [
    "email_sender='yourmail@gmail.com'\n",
    "email_password=os.environ.get('Environment_Var_Name')\n",
    "email_receiver='tomailid@gmail.com'"
   ]
  },
  {
   "cell_type": "code",
   "execution_count": 3,
   "id": "4ea91bd6",
   "metadata": {},
   "outputs": [],
   "source": [
    "subject='check out my new project'\n",
    "body='''This project tells about how to send a mail using python.'''"
   ]
  },
  {
   "cell_type": "code",
   "execution_count": 5,
   "id": "83ec6d2c",
   "metadata": {},
   "outputs": [],
   "source": [
    "em=EmailMessage()\n",
    "em['From']=email_sender\n",
    "em['To']=email_receiver\n",
    "em['Subject']=subject\n",
    "em.set_content(body)"
   ]
  },
  {
   "cell_type": "code",
   "execution_count": 6,
   "id": "a359b0d5",
   "metadata": {},
   "outputs": [],
   "source": [
    "context=ssl.create_default_context()"
   ]
  },
  {
   "cell_type": "code",
   "execution_count": 7,
   "id": "a9dfd26f",
   "metadata": {},
   "outputs": [],
   "source": [
    "with smtplib.SMTP_SSL('smtp.gmail.com',465,context=context) as smtp:\n",
    "    smtp.login(email_sender,email_password)\n",
    "    smtp.sendmail(email_sender,email_receiver,em.as_string())"
   ]
  }
 ],
 "metadata": {
  "kernelspec": {
   "display_name": "Python 3 (ipykernel)",
   "language": "python",
   "name": "python3"
  },
  "language_info": {
   "codemirror_mode": {
    "name": "ipython",
    "version": 3
   },
   "file_extension": ".py",
   "mimetype": "text/x-python",
   "name": "python",
   "nbconvert_exporter": "python",
   "pygments_lexer": "ipython3",
   "version": "3.9.7"
  }
 },
 "nbformat": 4,
 "nbformat_minor": 5
}
