{
 "cells": [
  {
   "cell_type": "code",
   "execution_count": 1,
   "id": "7737236d",
   "metadata": {},
   "outputs": [
    {
     "name": "stdout",
     "output_type": "stream",
     "text": [
      "Enter how many terms:12\n",
      "0\n",
      "1\n",
      "1\n",
      "2\n",
      "3\n",
      "5\n",
      "8\n",
      "13\n",
      "21\n",
      "34\n",
      "55\n",
      "89\n"
     ]
    }
   ],
   "source": [
    "#1.Write a Python Program to Display Fibonacci Sequence Using Recursion?\n",
    "def fibo(n):\n",
    "    if n<=1:\n",
    "        return n\n",
    "    else:\n",
    "        return(fibo(n-1)+fibo(n-2))\n",
    "term=int(input(\"Enter how many terms:\"))\n",
    "if term<=0:\n",
    "    print(\"Please enter a positive integer\")\n",
    "else:\n",
    "    for i in range(term):\n",
    "        print(fibo(i))"
   ]
  },
  {
   "cell_type": "code",
   "execution_count": 3,
   "id": "1bab2873",
   "metadata": {},
   "outputs": [
    {
     "name": "stdout",
     "output_type": "stream",
     "text": [
      "Enter number:6\n",
      "factorial: 720\n"
     ]
    }
   ],
   "source": [
    "#2.Write a Python Program to Find Factorial of Number Using Recursion?\n",
    "def fac(n):\n",
    "    if n==1:\n",
    "        return n\n",
    "    else:\n",
    "        return n*fac(n-1)\n",
    "num=int(input(\"Enter number:\"))\n",
    "if num <0:\n",
    "    print(\"Factorial doesn't exist\")\n",
    "elif num==0:\n",
    "    print(\"Factorial of 0 is 1\")\n",
    "else:\n",
    "    print(\"factorial:\",fac(num))"
   ]
  },
  {
   "cell_type": "code",
   "execution_count": 8,
   "id": "8a144c70",
   "metadata": {},
   "outputs": [
    {
     "name": "stdout",
     "output_type": "stream",
     "text": [
      "Input your height in Feet: 1.6\n",
      "Input your weight in Kilogram: 60\n",
      "Your body mass index is:  23\n"
     ]
    }
   ],
   "source": [
    "#3.Write a Python Program to calculate your Body Mass Index?\n",
    "height = float(input(\"Input your height in meter: \"))\n",
    "weight = float(input(\"Input your weight in Kilogram: \"))\n",
    "print(\"Your body mass index is: \", round(weight / (height * height)))"
   ]
  },
  {
   "cell_type": "code",
   "execution_count": 14,
   "id": "ca0f4b6b",
   "metadata": {},
   "outputs": [
    {
     "name": "stdout",
     "output_type": "stream",
     "text": [
      "14\n",
      "2.6390573296152584\n"
     ]
    }
   ],
   "source": [
    "#4.Write a Python Program to calculate the natural logarithm of any number?\n",
    "import math\n",
    "num=float(input())\n",
    "print(math.log(num))"
   ]
  },
  {
   "cell_type": "code",
   "execution_count": 17,
   "id": "635558d0",
   "metadata": {},
   "outputs": [
    {
     "name": "stdout",
     "output_type": "stream",
     "text": [
      "4\n",
      "100\n"
     ]
    }
   ],
   "source": [
    "#5.Write a Python Program for cube sum of first n natural numbers?\n",
    "num=int(input())\n",
    "sum=0\n",
    "for i in range(1,num+1):\n",
    "    sum=sum+i*i*i\n",
    "print(sum)"
   ]
  }
 ],
 "metadata": {
  "kernelspec": {
   "display_name": "Python 3 (ipykernel)",
   "language": "python",
   "name": "python3"
  },
  "language_info": {
   "codemirror_mode": {
    "name": "ipython",
    "version": 3
   },
   "file_extension": ".py",
   "mimetype": "text/x-python",
   "name": "python",
   "nbconvert_exporter": "python",
   "pygments_lexer": "ipython3",
   "version": "3.9.7"
  }
 },
 "nbformat": 4,
 "nbformat_minor": 5
}
