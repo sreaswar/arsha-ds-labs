{
 "cells": [
  {
   "cell_type": "code",
   "execution_count": null,
   "id": "7214c1bd",
   "metadata": {},
   "outputs": [
    {
     "name": "stdout",
     "output_type": "stream",
     "text": [
      "Roll the dice? (Yes/No) : yes\n",
      "dice rolled: 1 and 3\n",
      "-----\n",
      "|   |\n",
      "| o |\n",
      "|   |\n",
      "-----\n",
      "-----\n",
      "|o  |\n",
      "| o |\n",
      "|  o|\n",
      "-----\n"
     ]
    }
   ],
   "source": [
    "import random\n",
    "\n",
    "def roll_dice():\n",
    "\n",
    "    dice_drawing = {\n",
    "        1: (\n",
    "            \"-----\",\n",
    "            \"|   |\",\n",
    "            \"| o |\",\n",
    "            \"|   |\",\n",
    "            \"-----\",\n",
    "        ),\n",
    "        2: (\n",
    "            \"-----\",\n",
    "            \"|o  |\",\n",
    "            \"|   |\",\n",
    "            \"|  o|\",\n",
    "            \"-----\",\n",
    "        ),\n",
    "        3: (\n",
    "            \"-----\",\n",
    "            \"|o  |\",\n",
    "            \"| o |\",\n",
    "            \"|  o|\",\n",
    "            \"-----\",\n",
    "        ),\n",
    "        4: (\n",
    "            \"-----\",\n",
    "            \"|o o|\",\n",
    "            \"|   |\",\n",
    "            \"|o o|\",\n",
    "            \"-----\",\n",
    "        ),\n",
    "        5: (\n",
    "            \"-----\",\n",
    "            \"|o o|\",\n",
    "            \"| o |\",\n",
    "            \"|o o|\",\n",
    "            \"-----\",\n",
    "        ),\n",
    "        6: (\n",
    "            \"-----\",\n",
    "            \"|o o|\",\n",
    "            \"|o o|\",\n",
    "            \"|o o|\",\n",
    "            \"-----\",\n",
    "        ),\n",
    "\n",
    "    }\n",
    "    roll = input(\"Roll the dice? (Yes/No) : \")\n",
    "    while roll.lower() == \"Yes\". lower():\n",
    "        dice1 = random.randint(1, 6)\n",
    "        dice2 = random.randint(1, 6)\n",
    "\n",
    "        print(\"dice rolled: {} and {}\". format(dice1, dice2))\n",
    "        print(\"\\n\".join(dice_drawing[dice1]))\n",
    "        print(\"\\n\".join(dice_drawing[dice2]))\n",
    "        \n",
    "        roll = input(\"Roll again? (Yes/no): \")\n",
    "roll_dice()"
   ]
  }
 ],
 "metadata": {
  "kernelspec": {
   "display_name": "Python 3 (ipykernel)",
   "language": "python",
   "name": "python3"
  },
  "language_info": {
   "codemirror_mode": {
    "name": "ipython",
    "version": 3
   },
   "file_extension": ".py",
   "mimetype": "text/x-python",
   "name": "python",
   "nbconvert_exporter": "python",
   "pygments_lexer": "ipython3",
   "version": "3.9.7"
  }
 },
 "nbformat": 4,
 "nbformat_minor": 5
}
