{
 "cells": [
  {
   "cell_type": "code",
   "execution_count": null,
   "id": "e95fcf4e",
   "metadata": {},
   "outputs": [],
   "source": [
    "import requests\n",
    "import schedule\n",
    "import time"
   ]
  },
  {
   "cell_type": "code",
   "execution_count": 33,
   "id": "3583fb97",
   "metadata": {},
   "outputs": [
    {
     "name": "stdout",
     "output_type": "stream",
     "text": [
      "Morning message sent at 2023-03-29 22:39:45 to +917899165924. Message ID: SMe9aecdc5ad8fbadc80f748c2c0691161\n"
     ]
    }
   ],
   "source": [
    "from twilio.rest import Client\n",
    "import datetime\n",
    "\n",
    "# Set up your Twilio account credentials\n",
    "account_sid = \"AC00d766f9a12bd24a921cb3e24a28ded4\"\n",
    "auth_token = \"2c55b5a83bafa0aa65ef3df54f20cf0a\"\n",
    "client = Client(account_sid, auth_token)\n",
    "\n",
    "# Define the recipient's phone number and your Twilio phone number\n",
    "recipient_number = \"+917899165924\" # Replace with recipient's phone number\n",
    "twilio_number = \"+14345955577\" # Replace with your Twilio phone number\n",
    "\n",
    "# Define your morning message\n",
    "morning_message = \"Good morning! Have a great day!\"\n",
    "\n",
    "# Get the current date and time\n",
    "now = datetime.datetime.now()\n",
    "\n",
    "# Send the morning message\n",
    "message = client.messages.create(\n",
    "    body=morning_message,\n",
    "    from_=twilio_number,\n",
    "    to=recipient_number\n",
    ")\n",
    "\n",
    "# Print confirmation message\n",
    "print(f\"Morning message sent at {now.strftime('%Y-%m-%d %H:%M:%S')} to {recipient_number}. Message ID: {message.sid}\")\n"
   ]
  },
  {
   "cell_type": "code",
   "execution_count": null,
   "id": "93b7b0fb",
   "metadata": {},
   "outputs": [],
   "source": [
    "pip install twilio"
   ]
  },
  {
   "cell_type": "code",
   "execution_count": 31,
   "id": "a96a7344",
   "metadata": {},
   "outputs": [
    {
     "name": "stdout",
     "output_type": "stream",
     "text": [
      "+14345955577\n"
     ]
    }
   ],
   "source": [
    "from twilio.rest import Client\n",
    "\n",
    "# Your Twilio account SID and auth token\n",
    "account_sid = 'AC00d766f9a12bd24a921cb3e24a28ded4'\n",
    "auth_token = '2c55b5a83bafa0aa65ef3df54f20cf0a'\n",
    "\n",
    "# Initialize Twilio client\n",
    "client = Client(account_sid, auth_token)\n",
    "\n",
    "# Retrieve a list of all phone numbers\n",
    "numbers = client.incoming_phone_numbers.list()\n",
    "\n",
    "# Print the phone numbers\n",
    "for number in numbers:\n",
    "    print(number.phone_number)"
   ]
  }
 ],
 "metadata": {
  "kernelspec": {
   "display_name": "Python 3 (ipykernel)",
   "language": "python",
   "name": "python3"
  },
  "language_info": {
   "codemirror_mode": {
    "name": "ipython",
    "version": 3
   },
   "file_extension": ".py",
   "mimetype": "text/x-python",
   "name": "python",
   "nbconvert_exporter": "python",
   "pygments_lexer": "ipython3",
   "version": "3.9.7"
  }
 },
 "nbformat": 4,
 "nbformat_minor": 5
}
