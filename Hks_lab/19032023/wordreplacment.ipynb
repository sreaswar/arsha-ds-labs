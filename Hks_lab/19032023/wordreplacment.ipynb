{
 "cells": [
  {
   "cell_type": "code",
   "execution_count": 2,
   "id": "16453244",
   "metadata": {},
   "outputs": [
    {
     "name": "stdout",
     "output_type": "stream",
     "text": [
      "Enter the word to replace: tomi\n",
      "Enter the word replacement: hemanth\n",
      "hi guys, i am hemanth, and hi hi hi hi\n"
     ]
    }
   ],
   "source": [
    "def replace_word():\n",
    "    str = \"hi guys, i am tomi, and hi hi hi hi\"\n",
    "    word_to_replace = input(\"Enter the word to replace: \")\n",
    "    word_replacement = input(\"Enter the word replacement: \")\n",
    "    print(str.replace(word_to_replace, word_replacement))\n",
    "    \n",
    "replace_word()"
   ]
  },
  {
   "cell_type": "code",
   "execution_count": null,
   "id": "e6b6833c",
   "metadata": {},
   "outputs": [],
   "source": []
  }
 ],
 "metadata": {
  "kernelspec": {
   "display_name": "Python 3 (ipykernel)",
   "language": "python",
   "name": "python3"
  },
  "language_info": {
   "codemirror_mode": {
    "name": "ipython",
    "version": 3
   },
   "file_extension": ".py",
   "mimetype": "text/x-python",
   "name": "python",
   "nbconvert_exporter": "python",
   "pygments_lexer": "ipython3",
   "version": "3.9.7"
  }
 },
 "nbformat": 4,
 "nbformat_minor": 5
}
