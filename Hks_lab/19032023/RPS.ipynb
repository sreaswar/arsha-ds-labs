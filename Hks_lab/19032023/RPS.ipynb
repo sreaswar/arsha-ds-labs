{
 "cells": [
  {
   "cell_type": "code",
   "execution_count": null,
   "id": "38c332e1",
   "metadata": {},
   "outputs": [
    {
     "name": "stdout",
     "output_type": "stream",
     "text": [
      "Choose rock, paper, scissors or exit: rock\n",
      "Your input is rock\n",
      "computer input is scissors\n",
      "you win\n"
     ]
    }
   ],
   "source": [
    "import random\n",
    "\n",
    "exit = False\n",
    "user_points = 0\n",
    "computer_points = 0\n",
    "\n",
    "while exit == False:\n",
    "    options = [\"rock\", \"paper\" , \"scissors\"]\n",
    "    user_input = input(\"Choose rock, paper, scissors or exit: \")\n",
    "    computer_input = random.choice(options)\n",
    "    \n",
    "    if user_input == \"exit\" :\n",
    "        print(\"Game ended\")\n",
    "        print(\"You won a total score of \"+str(user_points)+\" and the computer total score is \" +str(computer_points))\n",
    "        exit = True\n",
    "\n",
    "    if user_input == \"rock\":\n",
    "        if computer_input == \"rock\":\n",
    "            print(\"Your input is rock\")\n",
    "            print(\"computer input is rock\")\n",
    "            print(\"It is a tie!\")\n",
    "        elif computer_input == \"paper\":\n",
    "            print(\"Your input is rock\")\n",
    "            print(\"computer input is paper\")\n",
    "            print(\" computer wins\")\n",
    "            computer_points += 1\n",
    "        elif computer_input == \"scissors\":\n",
    "            print(\"Your input is rock\")\n",
    "            print(\"computer input is scissors\")\n",
    "            print(\"you win\")\n",
    "            user_points += 1\n",
    "\n",
    "    elif user_input == \"paper\":\n",
    "        if computer_input == \"rock\":\n",
    "            print(\"Your input is paper\")\n",
    "            print(\"computer input is rock\")\n",
    "            print(\"you win!\")\n",
    "            user_points += 1\n",
    "        elif computer_input == \"paper\":\n",
    "            print(\"Your input is paper\")\n",
    "            print(\"computer input is paper\")\n",
    "            print(\"it's a tie!\")\n",
    "        elif computer_input == \"scissors\":\n",
    "            print(\"Your input is paper\")\n",
    "            print(\"computer input is scissors\")\n",
    "            print(\"computer wins\")\n",
    "            computer_points += 1\n",
    "\n",
    "    elif user_input == \"scissors\":\n",
    "        if computer_input == \"rock\":\n",
    "            print(\"Your input is scissors\")\n",
    "            print(\"computer input is rock\")\n",
    "            print(\"computer win!\")\n",
    "            computer_points += 1\n",
    "        elif computer_input == \"paper\":\n",
    "            print(\"Your input is scissors\")\n",
    "            print(\"computer input is paper\")\n",
    "            print(\"you win\")\n",
    "            user_points += 1\n",
    "        elif computer_input == \"scissors\":\n",
    "            print(\"Your input is scissors\")\n",
    "            print(\"computer input is scissors\")\n",
    "            print(\"its a tie\")\n",
    "\n",
    "    elif user_input != \" rock\" or user_input != \"paper\" or user_input != \"scissors\":\n",
    "        print(\"Invalid Input\")"
   ]
  },
  {
   "cell_type": "code",
   "execution_count": null,
   "id": "9c050986",
   "metadata": {},
   "outputs": [],
   "source": []
  }
 ],
 "metadata": {
  "kernelspec": {
   "display_name": "Python 3 (ipykernel)",
   "language": "python",
   "name": "python3"
  },
  "language_info": {
   "codemirror_mode": {
    "name": "ipython",
    "version": 3
   },
   "file_extension": ".py",
   "mimetype": "text/x-python",
   "name": "python",
   "nbconvert_exporter": "python",
   "pygments_lexer": "ipython3",
   "version": "3.9.7"
  }
 },
 "nbformat": 4,
 "nbformat_minor": 5
}
