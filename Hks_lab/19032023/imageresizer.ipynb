{
 "cells": [
  {
   "cell_type": "code",
   "execution_count": 2,
   "id": "fffe618c",
   "metadata": {},
   "outputs": [
    {
     "name": "stdout",
     "output_type": "stream",
     "text": [
      "The original image size is 1069 wide x 1348 high\n",
      "The resized image size is 800 wide x 600 high\n"
     ]
    }
   ],
   "source": [
    "from PIL import Image\n",
    "\n",
    "def resize_image(input_image_path, output_image_path, size):\n",
    "    original_image = Image.open(input_image_path)\n",
    "    width, height = original_image.size\n",
    "    print(f\"The original image size is {width} wide x {height} high\")\n",
    "\n",
    "    resized_image = original_image.resize(size)\n",
    "    width, height = resized_image.size\n",
    "    print(f\"The resized image size is {width} wide x {height} high\")\n",
    "    resized_image.save(output_image_path)\n",
    "\n",
    "# Example usage\n",
    "input_image_path = 'input_image.png'\n",
    "output_image_path = 'output_image.png'\n",
    "size = (800, 600)\n",
    "resize_image(input_image_path, output_image_path, size)\n"
   ]
  },
  {
   "cell_type": "code",
   "execution_count": null,
   "id": "0eea2925",
   "metadata": {},
   "outputs": [],
   "source": []
  }
 ],
 "metadata": {
  "kernelspec": {
   "display_name": "Python 3 (ipykernel)",
   "language": "python",
   "name": "python3"
  },
  "language_info": {
   "codemirror_mode": {
    "name": "ipython",
    "version": 3
   },
   "file_extension": ".py",
   "mimetype": "text/x-python",
   "name": "python",
   "nbconvert_exporter": "python",
   "pygments_lexer": "ipython3",
   "version": "3.9.7"
  }
 },
 "nbformat": 4,
 "nbformat_minor": 5
}
