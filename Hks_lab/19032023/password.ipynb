{
 "cells": [
  {
   "cell_type": "code",
   "execution_count": 1,
   "id": "e5c55a55",
   "metadata": {},
   "outputs": [
    {
     "name": "stdout",
     "output_type": "stream",
     "text": [
      "Do you want to generate a password? (Yes/No): Yes\n",
      "How long would you like your password to be? 8\n",
      "QMczoQ 7\n"
     ]
    }
   ],
   "source": [
    "import string\n",
    "import random\n",
    "\n",
    "characters = list(string.ascii_letters + string.digits + \" !@#$%^&*()\")\n",
    "\n",
    "def generate_password():\n",
    "    password_length = int(input(\"How long would you like your password to be? \"))\n",
    "    \n",
    "    random.shuffle(characters)\n",
    "    \n",
    "    password = []\n",
    "    \n",
    "    for x in range(password_length):\n",
    "        password.append(random.choice(characters))\n",
    "    \n",
    "    random.shuffle(password)\n",
    "    \n",
    "    password = \"\" .join(password)\n",
    "    print(password)\n",
    "\n",
    "option = input(\"Do you want to generate a password? (Yes/No): \")\n",
    "\n",
    "if option == \"Yes\":\n",
    "    generate_password()\n",
    "elif option == \"No\":\n",
    "    print(\"Program ended\")\n",
    "    quit()\n",
    "else:\n",
    "    print(\"Invalid input, please input Yes or No\")\n",
    "    quit()"
   ]
  },
  {
   "cell_type": "code",
   "execution_count": null,
   "id": "46f3ee82",
   "metadata": {},
   "outputs": [],
   "source": []
  }
 ],
 "metadata": {
  "kernelspec": {
   "display_name": "Python 3 (ipykernel)",
   "language": "python",
   "name": "python3"
  },
  "language_info": {
   "codemirror_mode": {
    "name": "ipython",
    "version": 3
   },
   "file_extension": ".py",
   "mimetype": "text/x-python",
   "name": "python",
   "nbconvert_exporter": "python",
   "pygments_lexer": "ipython3",
   "version": "3.9.7"
  }
 },
 "nbformat": 4,
 "nbformat_minor": 5
}
