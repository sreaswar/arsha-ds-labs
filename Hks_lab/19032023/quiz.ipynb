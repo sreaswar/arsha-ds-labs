{
 "cells": [
  {
   "cell_type": "code",
   "execution_count": null,
   "id": "377ea44b",
   "metadata": {},
   "outputs": [
    {
     "name": "stdout",
     "output_type": "stream",
     "text": [
      "What is the capital of France?\n"
     ]
    }
   ],
   "source": [
    "quiz = {\n",
    "    \"question1\": {\n",
    "        \"question\": \"What is the capital of France?\",\n",
    "        \"answer\": \"Paris\"\n",
    "    },\n",
    "    \"question2\": {\n",
    "        \"question\": \"What is the capital of Germany?\",\n",
    "        \"answer\": \"Berlin\"\n",
    "    },\n",
    "    \"question3\": {\n",
    "        \"question\": \"What is the capital of Italy?\",\n",
    "        \"answer\": \"Rome\"\n",
    "    },\n",
    "    \"question4\": {\n",
    "        \"question\": \"What is the capital of Spain?\",\n",
    "        \"answer\": \"Madrid\"\n",
    "    },\"question5\": {\n",
    "        \"question\": \"What is the capital of Portugal?\",\n",
    "        \"answer\": \"Lisbon\"\n",
    "    },\"question6\": {\n",
    "        \"question\": \"What is the capital of Switzerland?\",\n",
    "        \"answer\": \"Bern\"\n",
    "    },\"question7\": {\n",
    "        \"question\": \"What is the capital of Austria?\",\n",
    "        \"answer\": \"Vienna\"\n",
    "    },\n",
    "}\n",
    "\n",
    "score = 0\n",
    "\n",
    "for key, value in quiz.items():\n",
    "    print(value['question'])\n",
    "    answer = input(\"Answer? \")\n",
    "\n",
    "    if answer.lower() == value[ 'answer'] . lower():\n",
    "        print('Correct')\n",
    "        score = score + 1\n",
    "        print(\"Your score is: \" + str(score))\n",
    "        print(\"\")\n",
    "        print(\"\")\n",
    "    else:\n",
    "        print(\"Wrong!\")\n",
    "        print(\"The answer is : \" + value[ ' answer'])\n",
    "        print(\"Your score is: \" + str(score))\n",
    "        print(\"\")\n",
    "        print(\"\")\n",
    "\n",
    "print(\"You got \" + str(score) + \" out of 7 questions correctly\")\n",
    "print(\"Your percentage is \" + str(int(score/7 * 100)) + \"%\")"
   ]
  },
  {
   "cell_type": "code",
   "execution_count": null,
   "id": "9ebc964c",
   "metadata": {},
   "outputs": [],
   "source": []
  }
 ],
 "metadata": {
  "kernelspec": {
   "display_name": "Python 3 (ipykernel)",
   "language": "python",
   "name": "python3"
  },
  "language_info": {
   "codemirror_mode": {
    "name": "ipython",
    "version": 3
   },
   "file_extension": ".py",
   "mimetype": "text/x-python",
   "name": "python",
   "nbconvert_exporter": "python",
   "pygments_lexer": "ipython3",
   "version": "3.9.7"
  }
 },
 "nbformat": 4,
 "nbformat_minor": 5
}
