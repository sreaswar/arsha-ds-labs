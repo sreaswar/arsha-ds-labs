{
 "cells": [
  {
   "cell_type": "code",
   "execution_count": 1,
   "id": "70f740b8",
   "metadata": {},
   "outputs": [
    {
     "name": "stdout",
     "output_type": "stream",
     "text": [
      "This is a site connectivity checker program\n",
      "Input the url of the site you want to check: https://github.com/tomitokko/20-python-projects/blob/main/site%20connectivity%20checker.py\n",
      "Checking connectivity \n",
      "Connected to https://github.com/tomitokko/20-python-projects/blob/main/site%20connectivity%20checker.py succesfully\n",
      "The response code was:  200\n"
     ]
    }
   ],
   "source": [
    "import urllib.request as urllib\n",
    "\n",
    "\n",
    "def main(url):\n",
    "    print(\"Checking connectivity \")\n",
    "    \n",
    "    response = urllib.urlopen(url)\n",
    "    print(\"Connected to\" , url, \"succesfully\")\n",
    "    print(\"The response code was: \", response.getcode())\n",
    "\n",
    "print(\"This is a site connectivity checker program\")\n",
    "input_url = input(\"Input the url of the site you want to check: \")\n",
    "\n",
    "main(input_url)"
   ]
  },
  {
   "cell_type": "code",
   "execution_count": null,
   "id": "c347d3fa",
   "metadata": {},
   "outputs": [],
   "source": []
  }
 ],
 "metadata": {
  "kernelspec": {
   "display_name": "Python 3 (ipykernel)",
   "language": "python",
   "name": "python3"
  },
  "language_info": {
   "codemirror_mode": {
    "name": "ipython",
    "version": 3
   },
   "file_extension": ".py",
   "mimetype": "text/x-python",
   "name": "python",
   "nbconvert_exporter": "python",
   "pygments_lexer": "ipython3",
   "version": "3.9.7"
  }
 },
 "nbformat": 4,
 "nbformat_minor": 5
}
