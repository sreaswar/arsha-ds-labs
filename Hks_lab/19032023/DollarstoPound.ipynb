{
 "cells": [
  {
   "cell_type": "code",
   "execution_count": 2,
   "id": "44361107",
   "metadata": {},
   "outputs": [
    {
     "name": "stdout",
     "output_type": "stream",
     "text": [
      "This program converts US dollars to Pounds Sterling\n",
      "\n",
      "Enter amount in dollars: 20\n",
      "That is 16.4 pounds. \n"
     ]
    }
   ],
   "source": [
    "def main():\n",
    "    print(\"This program converts US dollars to Pounds Sterling\")\n",
    "    print()\n",
    "\n",
    "    dollars = eval(input(\"Enter amount in dollars: \"))\n",
    "\n",
    "    pounds = convert_to_pounds(dollars)\n",
    "\n",
    "    print(\"That is\" , pounds, \"pounds. \")\n",
    "\n",
    "convert_to_pounds = lambda dollars: dollars * 0.82\n",
    "\n",
    "main()"
   ]
  },
  {
   "cell_type": "code",
   "execution_count": 6,
   "id": "85ae5913",
   "metadata": {},
   "outputs": [
    {
     "name": "stdout",
     "output_type": "stream",
     "text": [
      "Requirement already satisfied: password in c:\\users\\hemanth_s\\anaconda3\\lib\\site-packages (0.2)\n",
      "Note: you may need to restart the kernel to use updated packages.\n"
     ]
    }
   ],
   "source": [
    "pip install password"
   ]
  },
  {
   "cell_type": "code",
   "execution_count": 9,
   "id": "56ae0386",
   "metadata": {},
   "outputs": [
    {
     "name": "stdout",
     "output_type": "stream",
     "text": [
      "Collecting app2Note: you may need to restart the kernel to use updated packages.\n",
      "  Downloading app2-0.0.0-py3-none-any.whl (7.6 kB)\n",
      "Installing collected packages: app2\n",
      "Successfully installed app2-0.0.0\n",
      "\n"
     ]
    }
   ],
   "source": [
    "pip install app2"
   ]
  },
  {
   "cell_type": "code",
   "execution_count": null,
   "id": "815d83e4",
   "metadata": {},
   "outputs": [],
   "source": []
  }
 ],
 "metadata": {
  "kernelspec": {
   "display_name": "Python 3 (ipykernel)",
   "language": "python",
   "name": "python3"
  },
  "language_info": {
   "codemirror_mode": {
    "name": "ipython",
    "version": 3
   },
   "file_extension": ".py",
   "mimetype": "text/x-python",
   "name": "python",
   "nbconvert_exporter": "python",
   "pygments_lexer": "ipython3",
   "version": "3.9.7"
  }
 },
 "nbformat": 4,
 "nbformat_minor": 5
}
