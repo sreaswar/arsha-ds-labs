{
 "cells": [
  {
   "cell_type": "code",
   "execution_count": null,
   "id": "70bbc5b6",
   "metadata": {},
   "outputs": [
    {
     "name": "stdout",
     "output_type": "stream",
     "text": [
      " Welcome to the email slicer \n",
      "\n",
      "Input your email address: hemanthhks2002@gmail.com\n",
      "Username :  hemanthhks2002\n",
      "Domain :  gmail\n",
      "Extension:  com\n",
      " Welcome to the email slicer \n",
      "\n"
     ]
    }
   ],
   "source": [
    "def main():\n",
    "    print(\" Welcome to the email slicer \")\n",
    "    print(\"\")\n",
    "\n",
    "    email_input = input(\"Input your email address: \")\n",
    "\n",
    "    (username, domain) = email_input.split(\"@\")\n",
    "    (domain, extension) = domain.split(\".\")\n",
    "\n",
    "    print(\"Username : \", username)\n",
    "    print(\"Domain : \", domain)\n",
    "    print(\"Extension: \", extension)\n",
    "\n",
    "    \n",
    "while True:\n",
    "    main()"
   ]
  }
 ],
 "metadata": {
  "kernelspec": {
   "display_name": "Python 3 (ipykernel)",
   "language": "python",
   "name": "python3"
  },
  "language_info": {
   "codemirror_mode": {
    "name": "ipython",
    "version": 3
   },
   "file_extension": ".py",
   "mimetype": "text/x-python",
   "name": "python",
   "nbconvert_exporter": "python",
   "pygments_lexer": "ipython3",
   "version": "3.9.7"
  }
 },
 "nbformat": 4,
 "nbformat_minor": 5
}
